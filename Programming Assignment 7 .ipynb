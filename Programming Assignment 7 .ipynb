{
 "cells": [
  {
   "cell_type": "markdown",
   "metadata": {},
   "source": [
    "Question 1:- Write a Python Program to find sum of array?"
   ]
  },
  {
   "cell_type": "code",
   "execution_count": 7,
   "metadata": {},
   "outputs": [
    {
     "name": "stdout",
     "output_type": "stream",
     "text": [
      "Sum of the array is :- 155\n"
     ]
    }
   ],
   "source": [
    "# Python code to find sum of elements in given array \n",
    "# initialize a variable to store the sum, while iterating through, the array later\n",
    "# for loop is used iterate through the array and add each element to the sum variable one at a time\n",
    "def array_Sum(arr):  \n",
    "    sum=0 \n",
    "    for i in arr:\n",
    "        sum = sum + i         \n",
    "    return(sum) \n",
    "\n",
    "# input values to list \n",
    "arr = [11,12,13,14,15,16,17,18,19,20] \n",
    "\n",
    "# display sum  \n",
    "print ('Sum of the array is :-', array_Sum(arr)) "
   ]
  },
  {
   "cell_type": "markdown",
   "metadata": {},
   "source": [
    "Question 2:- Write a Python Program to find largest element in an array?"
   ]
  },
  {
   "cell_type": "code",
   "execution_count": 8,
   "metadata": {},
   "outputs": [
    {
     "name": "stdout",
     "output_type": "stream",
     "text": [
      "Largest in given array is 1000\n"
     ]
    }
   ],
   "source": [
    "# Python Program to find largest element in an array\n",
    "# in arr[] of size n, python function to find maximum, in arr[] of size n\n",
    "\n",
    "def largest(arr,n):\n",
    "  \n",
    "    # Initialize maximum element\n",
    "    max = arr[0]\n",
    "\n",
    "    # Traverse array elements from second\n",
    "    # and compare every element with \n",
    "    # current max\n",
    "    for i in range(1, n):\n",
    "        if arr[i] > max:\n",
    "            max = arr[i]\n",
    "    return max\n",
    "  \n",
    "# Driver Code\n",
    "arr = [100,200,500,1000] \n",
    "n = len(arr)\n",
    "Ans = largest(arr,n)\n",
    "print (\"Largest in given array is\",Ans)"
   ]
  },
  {
   "cell_type": "markdown",
   "metadata": {},
   "source": [
    "Question 3:- Write a Python Program for array rotation?"
   ]
  },
  {
   "cell_type": "code",
   "execution_count": 28,
   "metadata": {},
   "outputs": [
    {
     "name": "stdout",
     "output_type": "stream",
     "text": [
      "Array after left rotation is:  [5, 6, 7, 1, 2, 3, 4]\n"
     ]
    }
   ],
   "source": [
    "\n",
    "# function to rotate array by d elements using temp array\n",
    "def rotateArray(arr, n, d):\n",
    "    temp = []\n",
    "    i = 0\n",
    "    while (i < d):\n",
    "        temp.append(arr[i])\n",
    "        i = i + 1\n",
    "    i = 0\n",
    "    while (d < n):\n",
    "        arr[i] = arr[d]\n",
    "        i = i + 1\n",
    "        d = d + 1\n",
    "    arr[:] = arr[: i] + temp\n",
    "    return arr\n",
    " \n",
    "# Driver function to test above function\n",
    "arr = [1, 2, 3, 4, 5, 6, 7]\n",
    "print(\"Array after left rotation is: \", end=' ')\n",
    "print(rotateArray(arr, len(arr), 4))"
   ]
  },
  {
   "cell_type": "markdown",
   "metadata": {},
   "source": [
    "Question 4:- Write a Python Program to Split the array and add the first part to the end?"
   ]
  },
  {
   "cell_type": "code",
   "execution_count": 27,
   "metadata": {},
   "outputs": [
    {
     "name": "stdout",
     "output_type": "stream",
     "text": [
      "Array after left rotation is:  [63, 74, 85, 41, 52]\n"
     ]
    }
   ],
   "source": [
    "#Python Program to Split the array and add the first part to the end?\n",
    "#Using rotateArray(arr, n, d) function in previous problem statement\n",
    "arr = [41,52,63,74,85]\n",
    "print(\"Array after left rotation is: \", end=' ')\n",
    "print(rotateArray(arr, len(arr), 2))"
   ]
  },
  {
   "cell_type": "markdown",
   "metadata": {},
   "source": [
    "Question 5:- Write a Python Program to check if given array is Monotonic?"
   ]
  },
  {
   "cell_type": "code",
   "execution_count": 31,
   "metadata": {},
   "outputs": [
    {
     "name": "stdout",
     "output_type": "stream",
     "text": [
      "True\n"
     ]
    }
   ],
   "source": [
    "# Python Program to check if given array is Monotonic\n",
    "# Given an array A containing n integers. The task is to check whether the array is Monotonic or not. \n",
    "#An array is monotonic if it is either monotone increasing or monotone decreasing.\n",
    "# An array A is monotone increasing if for all i <= j, A[i] <= A[j]. \n",
    "# An array A is monotone decreasing if for all i <= j, A[i] >= A[j].\n",
    "# Return “True” if the given array A is monotonic else return “False” (without quotes).\n",
    "\n",
    "def isMonotonic(A):\n",
    "  \n",
    "    return (all(A[i] <= A[i + 1] for i in range(len(A) - 1)) or\n",
    "            all(A[i] >= A[i + 1] for i in range(len(A) - 1)))\n",
    "  \n",
    "# Driver program\n",
    "A = [11,12,12,13,13,14]\n",
    "  \n",
    "# Print required result\n",
    "print(isMonotonic(A))"
   ]
  }
 ],
 "metadata": {
  "kernelspec": {
   "display_name": "Python 3",
   "language": "python",
   "name": "python3"
  },
  "language_info": {
   "codemirror_mode": {
    "name": "ipython",
    "version": 3
   },
   "file_extension": ".py",
   "mimetype": "text/x-python",
   "name": "python",
   "nbconvert_exporter": "python",
   "pygments_lexer": "ipython3",
   "version": "3.8.5"
  }
 },
 "nbformat": 4,
 "nbformat_minor": 4
}
