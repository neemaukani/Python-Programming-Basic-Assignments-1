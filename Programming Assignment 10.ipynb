{
 "cells": [
  {
   "cell_type": "markdown",
   "metadata": {},
   "source": [
    "Question 1:- Write a Python program to find sum of elements in list?"
   ]
  },
  {
   "cell_type": "code",
   "execution_count": 15,
   "metadata": {},
   "outputs": [
    {
     "name": "stdout",
     "output_type": "stream",
     "text": [
      "Sum of the elements in list is :- 80\n"
     ]
    }
   ],
   "source": [
    "#Python program to find sum of elements in list\n",
    "\n",
    "# Use sum function \n",
    "\n",
    "l=[12,23,45]\n",
    "print(\"Sum of the elements in list is :-\",sum(l))"
   ]
  },
  {
   "cell_type": "markdown",
   "metadata": {},
   "source": [
    "Question 2:- Write a Python program to  Multiply all numbers in the list?"
   ]
  },
  {
   "cell_type": "code",
   "execution_count": 12,
   "metadata": {},
   "outputs": [
    {
     "name": "stdout",
     "output_type": "stream",
     "text": [
      "Multiplcation of the elements in list is:- 7986\n"
     ]
    }
   ],
   "source": [
    "#Python program to  Multiply all numbers in the list\n",
    "\n",
    "def multiplyList(myList) :\n",
    "     \n",
    "    # Multiply elements one by one\n",
    "    result = 1\n",
    "    for x in myList:\n",
    "         result = result * x\n",
    "    return result\n",
    "     \n",
    "# use multiply function\n",
    "l = [11, 22, 33]\n",
    "print(\"Multiplcation of the elements in list is:-\",multiplyList(l))"
   ]
  },
  {
   "cell_type": "markdown",
   "metadata": {},
   "source": [
    "Question 3:- Write a Python program to find smallest number in a list?"
   ]
  },
  {
   "cell_type": "code",
   "execution_count": 16,
   "metadata": {},
   "outputs": [
    {
     "name": "stdout",
     "output_type": "stream",
     "text": [
      "Smallest number of the elements in list is:- 10\n"
     ]
    }
   ],
   "source": [
    "# Python program to find smallest number in a list\n",
    "\n",
    "# Use min function to find smallest/minimum value in the list \n",
    "\n",
    "l = [11, 22, 33, 10, 20]\n",
    "print(\"Smallest number of the elements in list is:-\",min(l))\n"
   ]
  },
  {
   "cell_type": "markdown",
   "metadata": {},
   "source": [
    "Question 4:- Write a Python program to find largest number in a list?"
   ]
  },
  {
   "cell_type": "code",
   "execution_count": 13,
   "metadata": {},
   "outputs": [
    {
     "name": "stdout",
     "output_type": "stream",
     "text": [
      "Smallest number of the elements in list is:- 33\n"
     ]
    }
   ],
   "source": [
    "# Python program to find largest number in a list\n",
    "\n",
    "# Use max function to find largest/maximum value in the list \n",
    "\n",
    "l = [11, 22, 33, 10, 20]\n",
    "print(\"Smallest number of the elements in list is:-\",max(l))"
   ]
  },
  {
   "cell_type": "markdown",
   "metadata": {},
   "source": [
    "Question 5:- Write a Python program to find second largest number in a list?"
   ]
  },
  {
   "cell_type": "code",
   "execution_count": 25,
   "metadata": {},
   "outputs": [
    {
     "name": "stdout",
     "output_type": "stream",
     "text": [
      "Second largest value in the list is:- 22\n"
     ]
    }
   ],
   "source": [
    "# Python program to find second largest number in a list\n",
    "# find largest number in the list using max function and remove it by using remmove fuction.\n",
    "# later find second largest by using max function\n",
    "\n",
    "l = [11, 22, 33, 10, 20]\n",
    "\n",
    "# new_list is a set of list1\n",
    "new_list = set(l)\n",
    " \n",
    "# removing the largest element from temp list\n",
    "new_list.remove(max(new_list))\n",
    " \n",
    "print(\"Second largest value in the list is:-\",max(new_list))\n"
   ]
  },
  {
   "cell_type": "code",
   "execution_count": 24,
   "metadata": {},
   "outputs": [
    {
     "name": "stdout",
     "output_type": "stream",
     "text": [
      "Elements of the list are:-  [11, 22, 33, 10, 20]\n",
      "Second Largest value from the list is:- 22\n"
     ]
    }
   ],
   "source": [
    "# Python program to find second largest number in a list\n",
    "\n",
    "def findLargest(arr):\n",
    "    secondLargest = arr[0]\n",
    "    largest = arr[0]\n",
    "    for i in range(len(arr)):\n",
    "        if arr[i] > largest:\n",
    "            largest = arr[i]\n",
    " \n",
    "    for i in range(len(arr)):\n",
    "        if arr[i] > secondLargest and arr[i] != largest:\n",
    "            secondLargest = arr[i]\n",
    " \n",
    "    return secondLargest\n",
    " \n",
    "l = [11, 22, 33, 10, 20]\n",
    "print(\"Elements of the list are:- \", l)\n",
    "print(\"Second Largest value from the list is:-\",findLargest(l))"
   ]
  },
  {
   "cell_type": "markdown",
   "metadata": {},
   "source": [
    "Question 6:- Write a Python program to find N largest elements from a list?"
   ]
  },
  {
   "cell_type": "code",
   "execution_count": 28,
   "metadata": {},
   "outputs": [
    {
     "name": "stdout",
     "output_type": "stream",
     "text": [
      "[600, 700, 3779, 6000]\n"
     ]
    }
   ],
   "source": [
    "#Python program to find N largest elements from a list\n",
    "\n",
    "# Given a list of integers, the task is to find N largest elements assuming size of list is greater than or equal o N.\n",
    "\n",
    "# Python program to find N largest element from given list of integers\n",
    "  \n",
    "l = [6000,198,3779, 600,100,-65,700]\n",
    "n = 4\n",
    "  \n",
    "l.sort()\n",
    "print(l[-n:])"
   ]
  },
  {
   "cell_type": "markdown",
   "metadata": {},
   "source": [
    "Question 7:- Write a Python program to print even numbers in a list?"
   ]
  },
  {
   "cell_type": "code",
   "execution_count": 47,
   "metadata": {},
   "outputs": [
    {
     "name": "stdout",
     "output_type": "stream",
     "text": [
      "Even Number in the list is:- 34\n",
      "Even Number in the list is:- 2\n",
      "Even Number in the list is:- 44\n",
      "Even Number in the list is:- 12\n"
     ]
    }
   ],
   "source": [
    "# Python program to print even Numbers in a List\n",
    " \n",
    "# list of numbers\n",
    "l = [34, 45, 5, 2, 44, 12]\n",
    " \n",
    "# iterating each number in list to determine even number\n",
    "for num in l:\n",
    " \n",
    "    # checking condition to determine even number \n",
    "    if num % 2 == 0:\n",
    "        print(\"Even Number in the list is:-\", num)"
   ]
  },
  {
   "cell_type": "markdown",
   "metadata": {},
   "source": [
    "Question 8:- Write a Python program to print odd numbers in a List?"
   ]
  },
  {
   "cell_type": "code",
   "execution_count": 40,
   "metadata": {},
   "outputs": [
    {
     "name": "stdout",
     "output_type": "stream",
     "text": [
      "Odd Number in the list is:- 45\n",
      "Odd Number in the list is:- 5\n"
     ]
    }
   ],
   "source": [
    "#Python program to print odd numbers in a List\n",
    "\n",
    "# list of numbers\n",
    "l = [34, 45, 5, 2, 44, 12]\n",
    " \n",
    "# iterating each number in list\n",
    "for num in l:\n",
    " \n",
    "    # checking condition to determine odd number\n",
    "    if num % 2 != 0:\n",
    "        print(\"Odd Number in the list is:-\",num)"
   ]
  },
  {
   "cell_type": "markdown",
   "metadata": {},
   "source": [
    "Question 9:- Write a Python program to Remove empty List from List?"
   ]
  },
  {
   "cell_type": "code",
   "execution_count": 48,
   "metadata": {},
   "outputs": [
    {
     "name": "stdout",
     "output_type": "stream",
     "text": [
      "The original list is : [1, 2, [], 3, [], [], 4]\n",
      "List after empty list removal : [1, 2, 3, 4]\n"
     ]
    }
   ],
   "source": [
    "# Python program to Remove empty List from List \n",
    "\n",
    "# Initializing list \n",
    "l = [1, 2, [], 3, [], [], 4]\n",
    "  \n",
    "# printing original list \n",
    "print(\"The original list is : \" + str(l))\n",
    "  \n",
    "# Remove empty List from List using filter\n",
    "res = list(filter(None, l))\n",
    "  \n",
    "# printing result \n",
    "print (\"List after empty list removal : \" + str(res))"
   ]
  },
  {
   "cell_type": "markdown",
   "metadata": {},
   "source": [
    "Question 10:- Write a Python program to Cloning or Copying a list?"
   ]
  },
  {
   "cell_type": "code",
   "execution_count": 51,
   "metadata": {},
   "outputs": [
    {
     "name": "stdout",
     "output_type": "stream",
     "text": [
      "Original List: [1, 4, 3, 13, 15, 20]\n",
      "After Cloning: [1, 4, 3, 13, 15, 20]\n"
     ]
    }
   ],
   "source": [
    "\n",
    "# Python program to copy or clone a list\n",
    "# Using the Slice Operator\n",
    "def Cloning(list1):\n",
    "    list_copy = list1[:]\n",
    "    return list_copy\n",
    "  \n",
    "# Driver Code\n",
    "list1 = [1, 4, 3, 13, 15, 20]\n",
    "list2 = Cloning(list1)\n",
    "print(\"Original List:\", list1)\n",
    "print(\"After Cloning:\", list2)"
   ]
  },
  {
   "cell_type": "markdown",
   "metadata": {},
   "source": [
    "Question 11:- Write a Python program to Count occurrences of an element in a list?"
   ]
  },
  {
   "cell_type": "code",
   "execution_count": 54,
   "metadata": {},
   "outputs": [
    {
     "name": "stdout",
     "output_type": "stream",
     "text": [
      "4 has occurred 3 times\n",
      "5 has occurred 4 times\n",
      "6 has occurred 5 times\n",
      "7 has occurred 3 times\n",
      "8 has occurred 2 times\n",
      "9 has occurred 3 times\n"
     ]
    }
   ],
   "source": [
    "# Python program to Count occurrences of an element in a list\n",
    "\n",
    "def countX(l, x):\n",
    "    return l.count(x)\n",
    " \n",
    "l = [4, 5, 6, 6, 4, 6, 5, 5, 6, 4, 5, 6, 7, 8, 9, 7, 7, 8, 9, 9]\n",
    "x = 4\n",
    "print('{} has occurred {} times'.format(x, countX(l, x)))\n",
    "x = 5\n",
    "print('{} has occurred {} times'.format(x, countX(l, x)))\n",
    "x = 6\n",
    "print('{} has occurred {} times'.format(x, countX(l, x)))\n",
    "x = 7\n",
    "print('{} has occurred {} times'.format(x, countX(l, x)))\n",
    "x = 8\n",
    "print('{} has occurred {} times'.format(x, countX(l, x)))\n",
    "x = 9\n",
    "print('{} has occurred {} times'.format(x, countX(l, x)))"
   ]
  }
 ],
 "metadata": {
  "kernelspec": {
   "display_name": "Python 3",
   "language": "python",
   "name": "python3"
  },
  "language_info": {
   "codemirror_mode": {
    "name": "ipython",
    "version": 3
   },
   "file_extension": ".py",
   "mimetype": "text/x-python",
   "name": "python",
   "nbconvert_exporter": "python",
   "pygments_lexer": "ipython3",
   "version": "3.8.5"
  }
 },
 "nbformat": 4,
 "nbformat_minor": 4
}
