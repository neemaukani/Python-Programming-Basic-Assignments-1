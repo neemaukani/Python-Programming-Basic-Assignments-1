{
 "cells": [
  {
   "cell_type": "markdown",
   "metadata": {},
   "source": [
    "Question 1:- Write a Python program to check if the given number is a Disarium Number?"
   ]
  },
  {
   "cell_type": "code",
   "execution_count": 1,
   "metadata": {},
   "outputs": [
    {
     "name": "stdout",
     "output_type": "stream",
     "text": [
      "89\n",
      "disarium number\n"
     ]
    }
   ],
   "source": [
    "# Python program to check if the given number is a Disarium Number\n",
    "num = int(input())\n",
    "rem = s = 0;    \n",
    "len = len(str(num))\n",
    "     \n",
    "#Makes a copy of the original number num    \n",
    "n = num;    \n",
    "     \n",
    "#Calculates the sum of digits powered with their respective position    \n",
    "while(num > 0):    \n",
    "    rem = num%10;    \n",
    "    s += int(rem**len);    \n",
    "    num = num//10;    \n",
    "    len -= 1;    \n",
    "     \n",
    "#Checks whether the sum is equal to the number itself    \n",
    "if(s == n):    \n",
    "    print( \"disarium number\")    \n",
    "else:    \n",
    "    print(\" not a disarium number\")"
   ]
  },
  {
   "cell_type": "markdown",
   "metadata": {},
   "source": [
    "Question 2:- Write a Python program to print all disarium numbers between 1 to 100?"
   ]
  },
  {
   "cell_type": "code",
   "execution_count": 22,
   "metadata": {},
   "outputs": [
    {
     "name": "stdout",
     "output_type": "stream",
     "text": [
      "The disarium numbers between 1 and 100 are : \n",
      "1 2 3 4 5 6 7 8 9 89 "
     ]
    }
   ],
   "source": [
    "# Python program to print all disarium numbers between 1 to 100\n",
    "def length_calculation(my_val):\n",
    "   len_val = 0\n",
    "   while(my_val != 0):\n",
    "      len_val = len_val + 1\n",
    "      my_val = my_val//10\n",
    "   return len_val\n",
    "def digit_sum(my_num):\n",
    "   remaining = sum_val = 0\n",
    "   len_fun = length_calculation(my_num)\n",
    "   while(my_num > 0):\n",
    "      remaining = my_num%10\n",
    "      sum_val = sum_val + (remaining**len_fun)\n",
    "      my_num = my_num//10\n",
    "      len_fun = len_fun - 1\n",
    "   return sum_val\n",
    "ini_result = 0\n",
    "print(\"The disarium numbers between 1 and 100 are : \")\n",
    "for i in range(1, 101):\n",
    "   ini_result = digit_sum(i)\n",
    "   if(ini_result == i):\n",
    "      print(i,end=' ')"
   ]
  },
  {
   "cell_type": "markdown",
   "metadata": {},
   "source": [
    "Question 3:- Write a Python program to check if the given number is Happy Number?"
   ]
  },
  {
   "cell_type": "code",
   "execution_count": 9,
   "metadata": {},
   "outputs": [
    {
     "name": "stdout",
     "output_type": "stream",
     "text": [
      "19\n",
      "19 is a Happy number\n"
     ]
    }
   ],
   "source": [
    "# A number is called happy if it leads to 1 after a sequence of steps wherein each step number is replaced by the sum of squares  \n",
    "# of its digit that is if we start with Happy Number and keep replacing it with digits square sum, we reach 1. \n",
    "\n",
    "#Input: n = 19, Output: True, 19 is Happy Number,\n",
    "# 1^2 + 9^2 = 82\n",
    "# 8^2 + 2^2 = 68\n",
    "# 6^2 + 8^2 = 100\n",
    "# 1^2 + 0^2 + 0^2 = 1\n",
    "# As we reached to 1, 19 is a Happy Number\n",
    "\n",
    "# Python program to check a number is a Happy number or not\n",
    " \n",
    "# Utility method to return\n",
    "# sum of square of digit of n\n",
    "def numSquareSum(n):\n",
    "    squareSum = 0;\n",
    "    while(n):\n",
    "        squareSum += (n % 10) * (n % 10);\n",
    "        n = int(n / 10);\n",
    "    return squareSum;\n",
    " \n",
    "# method return true if\n",
    "# n is Happy number\n",
    "def isHappynumber(n):\n",
    " \n",
    "    # initialize slow\n",
    "    # and fast by n\n",
    "    slow = n;\n",
    "    fast = n;\n",
    "    while(True):\n",
    "         \n",
    "        # move slow number\n",
    "        # by one iteration\n",
    "        slow = numSquareSum(slow);\n",
    " \n",
    "        # move fast number\n",
    "        # by two iteration\n",
    "        fast = numSquareSum(numSquareSum(fast));\n",
    "        if(slow != fast):\n",
    "            continue;\n",
    "        else:\n",
    "            break;\n",
    " \n",
    "    # if both number meet at 1,\n",
    "    # then return true\n",
    "    return (slow == 1);\n",
    " \n",
    "# Driver Code\n",
    "n = int(input())\n",
    "if (isHappynumber(n)):\n",
    "    print(n , \"is a Happy number\");\n",
    "else:\n",
    "    print(n , \"is not a Happy number\");"
   ]
  },
  {
   "cell_type": "markdown",
   "metadata": {},
   "source": [
    "Question 4:- Write a Python program to print all happy numbers between 1 and 100?"
   ]
  },
  {
   "cell_type": "code",
   "execution_count": 18,
   "metadata": {},
   "outputs": [
    {
     "name": "stdout",
     "output_type": "stream",
     "text": [
      "List of happy numbers between 1 and 100: \n",
      "1 7 10 13 19 23 28 31 32 44 49 68 70 79 82 86 91 94 97 100 "
     ]
    }
   ],
   "source": [
    "# Python program to print all happy numbers between 1 and 100\n",
    "# isHappyNumber() will determine whether a number is happy or not    \n",
    "def isHappyNumber(num):    \n",
    "    rem = sum = 0    \n",
    "        \n",
    "    #Calculates the sum of squares of digits    \n",
    "    while(num > 0):    \n",
    "        rem = num%10   \n",
    "        sum = sum + (rem*rem)    \n",
    "        num = num//10    \n",
    "    return sum    \n",
    "            \n",
    "#Displays all happy numbers between 1 and 100    \n",
    "print(\"List of happy numbers between 1 and 100: \");    \n",
    "for i in range(1, 101):    \n",
    "    result = i    \n",
    "        \n",
    "    #Happy number always ends with 1 and     \n",
    "    #unhappy number ends in a cycle of repeating numbers which contains 4    \n",
    "    while(result != 1 and result != 4):    \n",
    "        result = isHappyNumber(result)    \n",
    "        \n",
    "    if(result == 1):    \n",
    "        print(i, end=' ')    "
   ]
  },
  {
   "cell_type": "markdown",
   "metadata": {},
   "source": [
    "Question 5:- Write a Python program to determine whether the given number is a Harshad Number?"
   ]
  },
  {
   "cell_type": "code",
   "execution_count": 15,
   "metadata": {},
   "outputs": [
    {
     "name": "stdout",
     "output_type": "stream",
     "text": [
      "8\n",
      "8 is a Harshad number\n"
     ]
    }
   ],
   "source": [
    "#Python program to determine whether the given number is a Harshad Number\n",
    "# If a number is divisible by the sum of its digits, then it will be known as a Harshad Number.\n",
    "#For example: The number 156 is divisible by the sum (12) of its digits (1, 5, 6 ). Some Harshad numbers are 8, 54, 120, etc.\n",
    "\n",
    "num = int(input())    \n",
    "rem = sum = 0    \n",
    "     \n",
    "#Make a copy of num and store it in variable n    \n",
    "n = num   \n",
    "     \n",
    "#Calculates sum of digits    \n",
    "while(num > 0):    \n",
    "    rem = num%10    \n",
    "    sum = sum + rem    \n",
    "    num = num//10   \n",
    "     \n",
    "#Checks whether the number is divisible by the sum of digits    \n",
    "if(n%sum == 0):    \n",
    "    print(str(n) + \" is a Harshad number\")   \n",
    "else:    \n",
    "    print(str(n) + \" is not a Harshad number\")   "
   ]
  },
  {
   "cell_type": "markdown",
   "metadata": {},
   "source": [
    "Question 6:- Write a Python program to print all pronic numbers between 1 and 100?"
   ]
  },
  {
   "cell_type": "code",
   "execution_count": 21,
   "metadata": {},
   "outputs": [
    {
     "name": "stdout",
     "output_type": "stream",
     "text": [
      "Pronic numbers between 1 and 100: \n",
      "2 6 12 20 30 42 56 72 90 "
     ]
    }
   ],
   "source": [
    "# Python program to print all pronic numbers between 1 and 100\n",
    "# The pronic number is a product of two consecutive integers of the form: n(n+1).\n",
    "\n",
    "# For example:\n",
    "\n",
    "# 6 = 2(2+1)= n(n+1),\n",
    "# 72 =8(8+1) = n(n+1)\n",
    "\n",
    "# Some pronic numbers are: 0, 2, 6, 12, 20, 30, 42, 56 etc.\n",
    "\n",
    "#isPronicNumber() will determine whether a given number is a pronic number or not    \n",
    "def isPronicNumber(num):    \n",
    "    flag = False    \n",
    "        \n",
    "    for j in range(1, num+1):    \n",
    "        #Checks for pronic number by multiplying consecutive numbers    \n",
    "        if((j*(j+1)) == num):    \n",
    "            flag = True    \n",
    "            break    \n",
    "    return flag    \n",
    "     \n",
    "#Displays pronic numbers between 1 and 100    \n",
    "print(\"Pronic numbers between 1 and 100: \")    \n",
    "for i in range(1, 101):    \n",
    "    if(isPronicNumber(i)):    \n",
    "        print(i, end=' ')      "
   ]
  }
 ],
 "metadata": {
  "kernelspec": {
   "display_name": "Python 3",
   "language": "python",
   "name": "python3"
  },
  "language_info": {
   "codemirror_mode": {
    "name": "ipython",
    "version": 3
   },
   "file_extension": ".py",
   "mimetype": "text/x-python",
   "name": "python",
   "nbconvert_exporter": "python",
   "pygments_lexer": "ipython3",
   "version": "3.8.5"
  }
 },
 "nbformat": 4,
 "nbformat_minor": 4
}
